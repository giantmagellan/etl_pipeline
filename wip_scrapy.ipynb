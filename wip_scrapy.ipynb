{
 "cells": [
  {
   "cell_type": "code",
   "execution_count": 1,
   "metadata": {},
   "outputs": [],
   "source": [
    "''' Dependencies '''\n",
    "import pandas as pd\n",
    "import numpy as np\n",
    "import scrapy\n",
    "import sqlalchemy"
   ]
  },
  {
   "cell_type": "code",
   "execution_count": 2,
   "metadata": {},
   "outputs": [],
   "source": [
    "from middleriver_urls import *"
   ]
  },
  {
   "cell_type": "code",
   "execution_count": 4,
   "metadata": {},
   "outputs": [
    {
     "name": "stdout",
     "output_type": "stream",
     "text": [
      "['https://waterservices.usgs.gov/nwis/iv/?sites=11312676&parameterCd=99133&startDT=2023-01-29T13:06:19.614-08:00&endDT=2023-02-05T13:06:19.614-08:00&siteStatus=all&format=rdb', 'https://waterservices.usgs.gov/nwis/iv/?sites=11312676&parameterCd=00400&startDT=2023-01-29T13:17:45.486-08:00&endDT=2023-02-05T13:17:45.486-08:00&siteStatus=all&format=rdb', 'https://waterservices.usgs.gov/nwis/iv/?sites=11312676&parameterCd=00480&startDT=2023-01-29T13:18:33.327-08:00&endDT=2023-02-05T13:18:33.327-08:00&siteStatus=all&format=rdb']\n"
     ]
    }
   ],
   "source": [
    "print([mr_nitrates, mr_ph, mr_salinity])"
   ]
  },
  {
   "cell_type": "code",
   "execution_count": null,
   "metadata": {},
   "outputs": [],
   "source": []
  }
 ],
 "metadata": {
  "kernelspec": {
   "display_name": "Python 3.9.16 ('water-pipeline')",
   "language": "python",
   "name": "python3"
  },
  "language_info": {
   "codemirror_mode": {
    "name": "ipython",
    "version": 3
   },
   "file_extension": ".py",
   "mimetype": "text/x-python",
   "name": "python",
   "nbconvert_exporter": "python",
   "pygments_lexer": "ipython3",
   "version": "3.10.9"
  },
  "orig_nbformat": 4,
  "vscode": {
   "interpreter": {
    "hash": "8864873b594fcf8740744447c443baedb0eac65b258f7697c41bd4225a2aabe8"
   }
  }
 },
 "nbformat": 4,
 "nbformat_minor": 2
}
