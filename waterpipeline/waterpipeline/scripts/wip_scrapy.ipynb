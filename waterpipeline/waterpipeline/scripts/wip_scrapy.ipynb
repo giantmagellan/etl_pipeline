{
 "cells": [
  {
   "cell_type": "code",
   "execution_count": 6,
   "metadata": {},
   "outputs": [],
   "source": [
    "''' Dependencies '''\n",
    "import pandas as pd\n",
    "import numpy as np\n",
    "import scrapy\n",
    "from datetime import date, timedelta"
   ]
  },
  {
   "cell_type": "code",
   "execution_count": 2,
   "metadata": {},
   "outputs": [],
   "source": [
    "csv_table = pd.read_table(\"../data_samples/middleriver-00480.tsv\", sep=\"\\t\", skiprows=26)"
   ]
  },
  {
   "cell_type": "code",
   "execution_count": 3,
   "metadata": {},
   "outputs": [],
   "source": [
    "csv_table.to_csv(f'../data_samples/middleriver-00480.csv', index=False)"
   ]
  },
  {
   "cell_type": "code",
   "execution_count": 4,
   "metadata": {},
   "outputs": [
    {
     "data": {
      "text/html": [
       "<div>\n",
       "<style scoped>\n",
       "    .dataframe tbody tr th:only-of-type {\n",
       "        vertical-align: middle;\n",
       "    }\n",
       "\n",
       "    .dataframe tbody tr th {\n",
       "        vertical-align: top;\n",
       "    }\n",
       "\n",
       "    .dataframe thead th {\n",
       "        text-align: right;\n",
       "    }\n",
       "</style>\n",
       "<table border=\"1\" class=\"dataframe\">\n",
       "  <thead>\n",
       "    <tr style=\"text-align: right;\">\n",
       "      <th></th>\n",
       "      <th>agency_cd</th>\n",
       "      <th>site_no</th>\n",
       "      <th>datetime</th>\n",
       "      <th>tz_cd</th>\n",
       "      <th>257812_00480</th>\n",
       "      <th>257812_00480_cd</th>\n",
       "    </tr>\n",
       "  </thead>\n",
       "  <tbody>\n",
       "    <tr>\n",
       "      <th>0</th>\n",
       "      <td>5s</td>\n",
       "      <td>15s</td>\n",
       "      <td>20d</td>\n",
       "      <td>6s</td>\n",
       "      <td>14n</td>\n",
       "      <td>10s</td>\n",
       "    </tr>\n",
       "    <tr>\n",
       "      <th>1</th>\n",
       "      <td>USGS</td>\n",
       "      <td>11312676</td>\n",
       "      <td>2023-02-16 00:00</td>\n",
       "      <td>PST</td>\n",
       "      <td>0.2</td>\n",
       "      <td>P</td>\n",
       "    </tr>\n",
       "    <tr>\n",
       "      <th>2</th>\n",
       "      <td>USGS</td>\n",
       "      <td>11312676</td>\n",
       "      <td>2023-02-16 00:15</td>\n",
       "      <td>PST</td>\n",
       "      <td>0.2</td>\n",
       "      <td>P</td>\n",
       "    </tr>\n",
       "    <tr>\n",
       "      <th>3</th>\n",
       "      <td>USGS</td>\n",
       "      <td>11312676</td>\n",
       "      <td>2023-02-16 00:30</td>\n",
       "      <td>PST</td>\n",
       "      <td>0.2</td>\n",
       "      <td>P</td>\n",
       "    </tr>\n",
       "    <tr>\n",
       "      <th>4</th>\n",
       "      <td>USGS</td>\n",
       "      <td>11312676</td>\n",
       "      <td>2023-02-16 00:45</td>\n",
       "      <td>PST</td>\n",
       "      <td>0.2</td>\n",
       "      <td>P</td>\n",
       "    </tr>\n",
       "  </tbody>\n",
       "</table>\n",
       "</div>"
      ],
      "text/plain": [
       "  agency_cd   site_no          datetime tz_cd 257812_00480 257812_00480_cd\n",
       "0        5s       15s               20d    6s          14n             10s\n",
       "1      USGS  11312676  2023-02-16 00:00   PST          0.2               P\n",
       "2      USGS  11312676  2023-02-16 00:15   PST          0.2               P\n",
       "3      USGS  11312676  2023-02-16 00:30   PST          0.2               P\n",
       "4      USGS  11312676  2023-02-16 00:45   PST          0.2               P"
      ]
     },
     "execution_count": 4,
     "metadata": {},
     "output_type": "execute_result"
    }
   ],
   "source": [
    "mr_df = pd.read_csv('../data_samples/middleriver-00480.csv')\n",
    "mr_df.head()"
   ]
  },
  {
   "cell_type": "code",
   "execution_count": 25,
   "metadata": {},
   "outputs": [
    {
     "name": "stdout",
     "output_type": "stream",
     "text": [
      "['https://waterservices.usgs.gov/nwis/iv/?sites=11455385&parameterCd=99133&startDT=2023-02-24&endDT=2023-02-25&siteStatus=all&format=rdb', 'https://waterservices.usgs.gov/nwis/iv/?sites=11455385&parameterCd=00400&startDT=2023-02-24&endDT=2023-02-25&siteStatus=all&format=rdb', 'https://waterservices.usgs.gov/nwis/iv/?sites=11455385&parameterCd=00480&startDT=2023-02-24&endDT=2023-02-25&siteStatus=all&format=rdb']\n"
     ]
    }
   ],
   "source": [
    "url_init = \"https://waterservices.usgs.gov/nwis/iv/?sites=\"\n",
    "url_end = \"&siteStatus=all&format=rdb\"\n",
    "monitor_loc = \"11455385\"\n",
    "param_codes = ['99133', '00400', '00480']  # nitrates, pH, salinity\n",
    "end_date = date.today()\n",
    "past_week = end_date - timedelta(days=7)\n",
    "start_date = end_date - timedelta(days=1)\n",
    "\n",
    "if past_week == end_date:\n",
    "    urls = ['{}{}&parameterCd={}&startDT={}&endDT={}{}'.format(url_init, monitor_loc, param_codes[0], past_week, end_date, url_end),\n",
    "            '{}{}&parameterCd={}&startDT={}&endDT={}{}'.format(url_init, monitor_loc, param_codes[1], past_week, end_date, url_end),\n",
    "            '{}{}&parameterCd={}&startDT={}&endDT={}{}'.format(url_init, monitor_loc, param_codes[2], past_week, end_date, url_end)]\n",
    "else:\n",
    "    urls = ['{}{}&parameterCd={}&startDT={}&endDT={}{}'.format(url_init, monitor_loc, param_codes[0], start_date, end_date, url_end),\n",
    "            '{}{}&parameterCd={}&startDT={}&endDT={}{}'.format(url_init, monitor_loc, param_codes[1], start_date, end_date, url_end),\n",
    "            '{}{}&parameterCd={}&startDT={}&endDT={}{}'.format(url_init, monitor_loc, param_codes[2], start_date, end_date, url_end)]\n",
    "print(urls)"
   ]
  },
  {
   "cell_type": "code",
   "execution_count": 31,
   "metadata": {},
   "outputs": [
    {
     "data": {
      "text/plain": [
       "['https://waterservices.usgs.gov/nwis/iv/?sites=11455385&parameterCd=99133&startDT=2023-02-18&endDT=2023-02-25&siteStatus=all&format=rdb',\n",
       " 'https://waterservices.usgs.gov/nwis/iv/?sites=11455385&parameterCd=00400&startDT=2023-02-18&endDT=2023-02-25&siteStatus=all&format=rdb',\n",
       " 'https://waterservices.usgs.gov/nwis/iv/?sites=11455385&parameterCd=00480&startDT=2023-02-18&endDT=2023-02-25&siteStatus=all&format=rdb']"
      ]
     },
     "execution_count": 31,
     "metadata": {},
     "output_type": "execute_result"
    }
   ],
   "source": [
    "urls = ['{}{}&parameterCd={}&startDT={}&endDT={}{}'.format(url_init, monitor_loc, code, past_week, end_date, url_end) for code in param_codes]\n",
    "urls"
   ]
  },
  {
   "cell_type": "code",
   "execution_count": null,
   "metadata": {},
   "outputs": [],
   "source": []
  }
 ],
 "metadata": {
  "kernelspec": {
   "display_name": "Python 3.9.16 ('water-pipeline')",
   "language": "python",
   "name": "python3"
  },
  "language_info": {
   "codemirror_mode": {
    "name": "ipython",
    "version": 3
   },
   "file_extension": ".py",
   "mimetype": "text/x-python",
   "name": "python",
   "nbconvert_exporter": "python",
   "pygments_lexer": "ipython3",
   "version": "3.10.9"
  },
  "orig_nbformat": 4,
  "vscode": {
   "interpreter": {
    "hash": "8864873b594fcf8740744447c443baedb0eac65b258f7697c41bd4225a2aabe8"
   }
  }
 },
 "nbformat": 4,
 "nbformat_minor": 2
}
