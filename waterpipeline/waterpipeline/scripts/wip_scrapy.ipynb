{
 "cells": [
  {
   "cell_type": "code",
   "execution_count": 25,
   "metadata": {},
   "outputs": [],
   "source": [
    "''' Dependencies '''\n",
    "import pandas as pd\n",
    "import numpy as np\n",
    "import scrapy\n",
    "from datetime import date, datetime, time, timedelta"
   ]
  },
  {
   "cell_type": "code",
   "execution_count": 3,
   "metadata": {},
   "outputs": [],
   "source": [
    "# csv_table = pd.read_table(\"../data_samples/middleriver-00480.tsv\", sep=\"\\t\", skiprows=26)"
   ]
  },
  {
   "cell_type": "code",
   "execution_count": 4,
   "metadata": {},
   "outputs": [],
   "source": [
    "# csv_table.to_csv(f'../data_samples/middleriver-00480.csv', index=False)"
   ]
  },
  {
   "cell_type": "code",
   "execution_count": 5,
   "metadata": {},
   "outputs": [
    {
     "data": {
      "text/html": [
       "<div>\n",
       "<style scoped>\n",
       "    .dataframe tbody tr th:only-of-type {\n",
       "        vertical-align: middle;\n",
       "    }\n",
       "\n",
       "    .dataframe tbody tr th {\n",
       "        vertical-align: top;\n",
       "    }\n",
       "\n",
       "    .dataframe thead th {\n",
       "        text-align: right;\n",
       "    }\n",
       "</style>\n",
       "<table border=\"1\" class=\"dataframe\">\n",
       "  <thead>\n",
       "    <tr style=\"text-align: right;\">\n",
       "      <th></th>\n",
       "      <th>agency_cd</th>\n",
       "      <th>site_no</th>\n",
       "      <th>datetime</th>\n",
       "      <th>tz_cd</th>\n",
       "      <th>257812_00480</th>\n",
       "      <th>257812_00480_cd</th>\n",
       "    </tr>\n",
       "  </thead>\n",
       "  <tbody>\n",
       "    <tr>\n",
       "      <th>0</th>\n",
       "      <td>5s</td>\n",
       "      <td>15s</td>\n",
       "      <td>20d</td>\n",
       "      <td>6s</td>\n",
       "      <td>14n</td>\n",
       "      <td>10s</td>\n",
       "    </tr>\n",
       "    <tr>\n",
       "      <th>1</th>\n",
       "      <td>USGS</td>\n",
       "      <td>11312676</td>\n",
       "      <td>2023-02-16 00:00</td>\n",
       "      <td>PST</td>\n",
       "      <td>0.2</td>\n",
       "      <td>P</td>\n",
       "    </tr>\n",
       "    <tr>\n",
       "      <th>2</th>\n",
       "      <td>USGS</td>\n",
       "      <td>11312676</td>\n",
       "      <td>2023-02-16 00:15</td>\n",
       "      <td>PST</td>\n",
       "      <td>0.2</td>\n",
       "      <td>P</td>\n",
       "    </tr>\n",
       "    <tr>\n",
       "      <th>3</th>\n",
       "      <td>USGS</td>\n",
       "      <td>11312676</td>\n",
       "      <td>2023-02-16 00:30</td>\n",
       "      <td>PST</td>\n",
       "      <td>0.2</td>\n",
       "      <td>P</td>\n",
       "    </tr>\n",
       "    <tr>\n",
       "      <th>4</th>\n",
       "      <td>USGS</td>\n",
       "      <td>11312676</td>\n",
       "      <td>2023-02-16 00:45</td>\n",
       "      <td>PST</td>\n",
       "      <td>0.2</td>\n",
       "      <td>P</td>\n",
       "    </tr>\n",
       "  </tbody>\n",
       "</table>\n",
       "</div>"
      ],
      "text/plain": [
       "  agency_cd   site_no          datetime tz_cd 257812_00480 257812_00480_cd\n",
       "0        5s       15s               20d    6s          14n             10s\n",
       "1      USGS  11312676  2023-02-16 00:00   PST          0.2               P\n",
       "2      USGS  11312676  2023-02-16 00:15   PST          0.2               P\n",
       "3      USGS  11312676  2023-02-16 00:30   PST          0.2               P\n",
       "4      USGS  11312676  2023-02-16 00:45   PST          0.2               P"
      ]
     },
     "execution_count": 5,
     "metadata": {},
     "output_type": "execute_result"
    }
   ],
   "source": [
    "mr_df = pd.read_csv('../data_samples/middleriver-00480.csv')\n",
    "mr_df.head()"
   ]
  },
  {
   "cell_type": "code",
   "execution_count": 6,
   "metadata": {},
   "outputs": [
    {
     "name": "stdout",
     "output_type": "stream",
     "text": [
      "['https://waterservices.usgs.gov/nwis/iv/?sites=11455385&parameterCd=99133&startDT=2023-02-25&endDT=2023-02-26&siteStatus=all&format=rdb', 'https://waterservices.usgs.gov/nwis/iv/?sites=11455385&parameterCd=00400&startDT=2023-02-25&endDT=2023-02-26&siteStatus=all&format=rdb', 'https://waterservices.usgs.gov/nwis/iv/?sites=11455385&parameterCd=00480&startDT=2023-02-25&endDT=2023-02-26&siteStatus=all&format=rdb']\n"
     ]
    }
   ],
   "source": [
    "url_init = \"https://waterservices.usgs.gov/nwis/iv/?sites=\"\n",
    "url_end = \"&siteStatus=all&format=rdb\"\n",
    "monitor_loc = \"11455385\"\n",
    "param_codes = ['99133', '00400', '00480']  # nitrates, pH, salinity\n",
    "end_date = date.today()\n",
    "past_week = end_date - timedelta(days=7)\n",
    "start_date = end_date - timedelta(days=1)\n",
    "\n",
    "\n",
    "if past_week == end_date:\n",
    "    urls = ['{}{}&parameterCd={}&startDT={}&endDT={}{}'.format(url_init, monitor_loc, param_codes[0], past_week, end_date, url_end),\n",
    "            '{}{}&parameterCd={}&startDT={}&endDT={}{}'.format(url_init, monitor_loc, param_codes[1], past_week, end_date, url_end),\n",
    "            '{}{}&parameterCd={}&startDT={}&endDT={}{}'.format(url_init, monitor_loc, param_codes[2], past_week, end_date, url_end)]\n",
    "else:\n",
    "    urls = ['{}{}&parameterCd={}&startDT={}&endDT={}{}'.format(url_init, monitor_loc, param_codes[0], start_date, end_date, url_end),\n",
    "            '{}{}&parameterCd={}&startDT={}&endDT={}{}'.format(url_init, monitor_loc, param_codes[1], start_date, end_date, url_end),\n",
    "            '{}{}&parameterCd={}&startDT={}&endDT={}{}'.format(url_init, monitor_loc, param_codes[2], start_date, end_date, url_end)]\n",
    "print(urls)"
   ]
  },
  {
   "cell_type": "code",
   "execution_count": 7,
   "metadata": {},
   "outputs": [
    {
     "data": {
      "text/plain": [
       "['https://waterservices.usgs.gov/nwis/iv/?sites=11455385&parameterCd=99133&startDT=2023-02-19&endDT=2023-02-26&siteStatus=all&format=rdb',\n",
       " 'https://waterservices.usgs.gov/nwis/iv/?sites=11455385&parameterCd=00400&startDT=2023-02-19&endDT=2023-02-26&siteStatus=all&format=rdb',\n",
       " 'https://waterservices.usgs.gov/nwis/iv/?sites=11455385&parameterCd=00480&startDT=2023-02-19&endDT=2023-02-26&siteStatus=all&format=rdb']"
      ]
     },
     "execution_count": 7,
     "metadata": {},
     "output_type": "execute_result"
    }
   ],
   "source": [
    "urls = ['{}{}&parameterCd={}&startDT={}&endDT={}{}'.format(url_init, monitor_loc, code, past_week, end_date, url_end) for code in param_codes]\n",
    "urls"
   ]
  },
  {
   "cell_type": "code",
   "execution_count": 24,
   "metadata": {},
   "outputs": [
    {
     "name": "stdout",
     "output_type": "stream",
     "text": [
      "2023-02-25T00:00:00 2023-02-25T23:59:59.999999\n"
     ]
    }
   ],
   "source": [
    "date = date.today()\n",
    "# past_week = end_date - timedelta(days=7)\n",
    "start_date = date - timedelta(days=1)\n",
    "\n",
    "start_dt_iso = datetime.combine(start_date, time.min).isoformat()\n",
    "end_dt_iso = datetime.combine(start_date, time.max).isoformat()\n",
    "\n",
    "print(start_dt_iso, end_dt_iso)"
   ]
  },
  {
   "cell_type": "code",
   "execution_count": 26,
   "metadata": {},
   "outputs": [
    {
     "data": {
      "text/plain": [
       "'20230225'"
      ]
     },
     "execution_count": 26,
     "metadata": {},
     "output_type": "execute_result"
    }
   ],
   "source": [
    "# Short format date\n",
    "short_format = start_date.strftime(\"%Y%m%d\")\n",
    "short_format"
   ]
  },
  {
   "cell_type": "code",
   "execution_count": 40,
   "metadata": {},
   "outputs": [],
   "source": [
    "import boto3\n",
    "import io\n",
    "from io import BytesIO"
   ]
  },
  {
   "cell_type": "code",
   "execution_count": 41,
   "metadata": {},
   "outputs": [],
   "source": [
    "''' DELETE AFTER USE!!! '''\n"
   ]
  },
  {
   "cell_type": "code",
   "execution_count": 42,
   "metadata": {},
   "outputs": [
    {
     "data": {
      "text/html": [
       "<div>\n",
       "<style scoped>\n",
       "    .dataframe tbody tr th:only-of-type {\n",
       "        vertical-align: middle;\n",
       "    }\n",
       "\n",
       "    .dataframe tbody tr th {\n",
       "        vertical-align: top;\n",
       "    }\n",
       "\n",
       "    .dataframe thead th {\n",
       "        text-align: right;\n",
       "    }\n",
       "</style>\n",
       "<table border=\"1\" class=\"dataframe\">\n",
       "  <thead>\n",
       "    <tr style=\"text-align: right;\">\n",
       "      <th></th>\n",
       "      <th>agency_cd</th>\n",
       "      <th>site_no</th>\n",
       "      <th>datetime</th>\n",
       "      <th>tz_cd</th>\n",
       "      <th>234489_00400</th>\n",
       "      <th>234489_00400_cd</th>\n",
       "    </tr>\n",
       "  </thead>\n",
       "  <tbody>\n",
       "    <tr>\n",
       "      <th>0</th>\n",
       "      <td>5s</td>\n",
       "      <td>15s</td>\n",
       "      <td>20d</td>\n",
       "      <td>6s</td>\n",
       "      <td>14n</td>\n",
       "      <td>10s</td>\n",
       "    </tr>\n",
       "    <tr>\n",
       "      <th>1</th>\n",
       "      <td>USGS</td>\n",
       "      <td>11455385</td>\n",
       "      <td>2023-02-24 00:00</td>\n",
       "      <td>PST</td>\n",
       "      <td>7.9</td>\n",
       "      <td>P</td>\n",
       "    </tr>\n",
       "    <tr>\n",
       "      <th>2</th>\n",
       "      <td>USGS</td>\n",
       "      <td>11455385</td>\n",
       "      <td>2023-02-24 00:15</td>\n",
       "      <td>PST</td>\n",
       "      <td>7.9</td>\n",
       "      <td>P</td>\n",
       "    </tr>\n",
       "    <tr>\n",
       "      <th>3</th>\n",
       "      <td>USGS</td>\n",
       "      <td>11455385</td>\n",
       "      <td>2023-02-24 00:30</td>\n",
       "      <td>PST</td>\n",
       "      <td>7.9</td>\n",
       "      <td>P</td>\n",
       "    </tr>\n",
       "    <tr>\n",
       "      <th>4</th>\n",
       "      <td>USGS</td>\n",
       "      <td>11455385</td>\n",
       "      <td>2023-02-24 00:45</td>\n",
       "      <td>PST</td>\n",
       "      <td>8.0</td>\n",
       "      <td>P</td>\n",
       "    </tr>\n",
       "  </tbody>\n",
       "</table>\n",
       "</div>"
      ],
      "text/plain": [
       "  agency_cd   site_no          datetime tz_cd 234489_00400 234489_00400_cd\n",
       "0        5s       15s               20d    6s          14n             10s\n",
       "1      USGS  11455385  2023-02-24 00:00   PST          7.9               P\n",
       "2      USGS  11455385  2023-02-24 00:15   PST          7.9               P\n",
       "3      USGS  11455385  2023-02-24 00:30   PST          7.9               P\n",
       "4      USGS  11455385  2023-02-24 00:45   PST          8.0               P"
      ]
     },
     "execution_count": 42,
     "metadata": {},
     "output_type": "execute_result"
    }
   ],
   "source": [
    "df = pd.read_csv(r'../data_samples/ryerisland-00400.csv')\n",
    "df.head()"
   ]
  },
  {
   "cell_type": "code",
   "execution_count": 43,
   "metadata": {},
   "outputs": [],
   "source": [
    "bucket_name = 'water-pipeline'\n",
    "key_prefix = 'ryerisland/'"
   ]
  },
  {
   "cell_type": "code",
   "execution_count": 52,
   "metadata": {},
   "outputs": [
    {
     "data": {
      "text/plain": [
       "{'ResponseMetadata': {'RequestId': 'R8MCRRES1CS6X6WR',\n",
       "  'HostId': '6cRtvErrmadCt3C0U5KRlnC2EUunVZyLukwyGiIl82TBhwu6DUccNnZIkT9ILrQlkun1NHICQKsNOpjJf1g/9g==',\n",
       "  'HTTPStatusCode': 200,\n",
       "  'HTTPHeaders': {'x-amz-id-2': '6cRtvErrmadCt3C0U5KRlnC2EUunVZyLukwyGiIl82TBhwu6DUccNnZIkT9ILrQlkun1NHICQKsNOpjJf1g/9g==',\n",
       "   'x-amz-request-id': 'R8MCRRES1CS6X6WR',\n",
       "   'date': 'Mon, 27 Feb 2023 00:30:34 GMT',\n",
       "   'x-amz-server-side-encryption': 'AES256',\n",
       "   'etag': '\"3efdf7d17c7a11184ab9b968c466f483\"',\n",
       "   'server': 'AmazonS3',\n",
       "   'content-length': '0'},\n",
       "  'RetryAttempts': 1},\n",
       " 'ETag': '\"3efdf7d17c7a11184ab9b968c466f483\"',\n",
       " 'ServerSideEncryption': 'AES256'}"
      ]
     },
     "execution_count": 52,
     "metadata": {},
     "output_type": "execute_result"
    }
   ],
   "source": [
    "# Write to s3\n",
    "s3 = boto3.client('s3', \n",
    "                aws_access_key_id = AWS_ACCESS_KEY_ID,\n",
    "                aws_secret_access_key = AWS_SECRET_ACCESS_KEY)\n",
    "# buffer = BytesIO()\n",
    "# csv_bytes = df.getvalue().encode(\"utf-8\")\n",
    "filename = key_prefix + 'ryerisland-00480.csv'\n",
    "csv_buffer = df.to_csv(index=False)\n",
    "s3.put_object(Bucket=bucket_name, Key=filename, Body=csv_buffer)"
   ]
  },
  {
   "cell_type": "code",
   "execution_count": 51,
   "metadata": {},
   "outputs": [
    {
     "ename": "ModuleNotFoundError",
     "evalue": "No module named 'config.config'; 'config' is not a package",
     "output_type": "error",
     "traceback": [
      "\u001b[1;31m---------------------------------------------------------------------------\u001b[0m",
      "\u001b[1;31mModuleNotFoundError\u001b[0m                       Traceback (most recent call last)",
      "Cell \u001b[1;32mIn[51], line 1\u001b[0m\n\u001b[1;32m----> 1\u001b[0m \u001b[38;5;28;01mfrom\u001b[39;00m \u001b[38;5;21;01mconfig\u001b[39;00m\u001b[38;5;21;01m.\u001b[39;00m\u001b[38;5;21;01mconfig\u001b[39;00m \u001b[38;5;28;01mimport\u001b[39;00m \u001b[38;5;241m*\u001b[39m\n",
      "\u001b[1;31mModuleNotFoundError\u001b[0m: No module named 'config.config'; 'config' is not a package"
     ]
    }
   ],
   "source": [
    "from config.config import *"
   ]
  },
  {
   "cell_type": "code",
   "execution_count": null,
   "metadata": {},
   "outputs": [],
   "source": []
  }
 ],
 "metadata": {
  "kernelspec": {
   "display_name": "Python 3.9.16 ('water-pipeline')",
   "language": "python",
   "name": "python3"
  },
  "language_info": {
   "codemirror_mode": {
    "name": "ipython",
    "version": 3
   },
   "file_extension": ".py",
   "mimetype": "text/x-python",
   "name": "python",
   "nbconvert_exporter": "python",
   "pygments_lexer": "ipython3",
   "version": "3.10.9"
  },
  "orig_nbformat": 4,
  "vscode": {
   "interpreter": {
    "hash": "8864873b594fcf8740744447c443baedb0eac65b258f7697c41bd4225a2aabe8"
   }
  }
 },
 "nbformat": 4,
 "nbformat_minor": 2
}
